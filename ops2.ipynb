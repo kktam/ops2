{
 "cells": [
  {
   "cell_type": "code",
   "execution_count": null,
   "metadata": {
    "collapsed": true
   },
   "outputs": [],
   "source": [
    "# load data into data frame\n",
    "\n",
    "import pandas as pd\n",
    "import time\n",
    "import datetime\n",
    "\n",
    "xl = pd.ExcelFile(\"OPS2.XLSX\")\n",
    "dataSheetName = xl.sheet_names[1]\n",
    "df = xl.parse(dataSheetName)"
   ]
  },
  {
   "cell_type": "code",
   "execution_count": null,
   "metadata": {},
   "outputs": [],
   "source": [
    "# debug - inspect value\n",
    "day = df.iloc[117, 8]\n",
    "day"
   ]
  },
  {
   "cell_type": "code",
   "execution_count": null,
   "metadata": {},
   "outputs": [],
   "source": [
    "# get the number of rows, from \"Day\" column\n",
    "s = df.shape\n",
    "row_count = s[0]\n",
    "\n",
    "# Create Adjusted Total Visits to account to change in how data is counted\n",
    "adjusted = []\n",
    "\n",
    "# For each row in the column,\n",
    "for i in range(0, row_count):\n",
    "    # get Day column value\n",
    "    day = df.iloc[i, 0].date()\n",
    "    # if past than count method date,\n",
    "    if day >= datetime.date(2017, 6, 12):\n",
    "        # add \"Total Visits\" and \"Smokers\" to total\n",
    "        adjusted.append(df.iloc[i, 1] + df.iloc[i, 8])\n",
    "    else:\n",
    "        # keep \"Total Visits\"\n",
    "        adjusted.append(df.iloc[i, 1])\n",
    "\n",
    "df['Adj Total Visits'] = adjusted\n",
    "#df['Adj Total Visits'] = pd.Series(adjusted, index=df.index)"
   ]
  },
  {
   "cell_type": "code",
   "execution_count": null,
   "metadata": {},
   "outputs": [],
   "source": [
    "df"
   ]
  }
 ],
 "metadata": {
  "kernelspec": {
   "display_name": "Python 3",
   "language": "python",
   "name": "python3"
  },
  "language_info": {
   "codemirror_mode": {
    "name": "ipython",
    "version": 3
   },
   "file_extension": ".py",
   "mimetype": "text/x-python",
   "name": "python",
   "nbconvert_exporter": "python",
   "pygments_lexer": "ipython3",
   "version": "3.6.2"
  }
 },
 "nbformat": 4,
 "nbformat_minor": 2
}
